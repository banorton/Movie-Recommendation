{
 "cells": [
  {
   "cell_type": "markdown",
   "id": "9b8bcd9f-d673-400e-b3ce-0721167cfabd",
   "metadata": {},
   "source": [
    "# Programming Assignment: Recommender Systems"
   ]
  },
  {
   "cell_type": "markdown",
   "id": "ecb0fe56-3cca-47b0-804a-fbc8ba6fbd2a",
   "metadata": {},
   "source": [
    "## Imports"
   ]
  },
  {
   "cell_type": "code",
   "execution_count": 1044,
   "id": "98c47dd1-aaf7-4841-8d56-070f2ebf6f0a",
   "metadata": {},
   "outputs": [],
   "source": [
    "import pandas as pd\n",
    "import numpy as np\n",
    "from sklearn.metrics.pairwise import cosine_similarity\n",
    "import random\n",
    "from collections import defaultdict"
   ]
  },
  {
   "cell_type": "markdown",
   "id": "659d303e-cf41-4be0-8c6b-9e2674becf4f",
   "metadata": {},
   "source": [
    "## Part 1: Data Processing"
   ]
  },
  {
   "cell_type": "markdown",
   "id": "56e24933-7e20-47e0-8d85-0c70502ff77d",
   "metadata": {},
   "source": [
    "We first read the raw data in using the correct delimiter and give column names for the data. The data is then saved in csv format."
   ]
  },
  {
   "cell_type": "code",
   "execution_count": 1045,
   "id": "e09f9eec-4aa7-4173-a07b-6d14ad198ab2",
   "metadata": {},
   "outputs": [],
   "source": [
    "udata = pd.read_csv('./u.data', delimiter='\\t', names=[\"user_id\", \"movie_id\", \"rating\", \"timestamp\"])\n",
    "\n",
    "uitem = pd.read_csv('./u.item', delimiter='|', encoding='latin1', usecols=[0, 1, 2], header=None)\n",
    "uitem.columns = [\"movie_id\", \"title\", \"release_date\"]\n",
    "uitem[\"movie_id\"] = uitem[\"movie_id\"].astype(int)\n",
    "\n",
    "uuser = pd.read_csv('./u.user', delimiter='|', encoding='latin1', usecols=[0, 1, 2, 3], header=None)\n",
    "uuser.columns = [\"user_id\", \"age\", \"gender\", \"occupation\"]\n",
    "\n",
    "udata.to_csv('udata.csv', index=False)\n",
    "uitem.to_csv('uitem.csv', index=False)\n",
    "uuser.to_csv('uuser.csv', index=False)"
   ]
  },
  {
   "cell_type": "code",
   "execution_count": 1046,
   "id": "ba78d8a3-bc07-44b0-a1e4-64cd3dfcb691",
   "metadata": {},
   "outputs": [
    {
     "name": "stdout",
     "output_type": "stream",
     "text": [
      "   user_id  movie_id  rating  timestamp\n",
      "0      196       242       3  881250949\n",
      "1      186       302       3  891717742\n",
      "2       22       377       1  878887116\n",
      "\n",
      "   movie_id              title release_date\n",
      "0         1   Toy Story (1995)  01-Jan-1995\n",
      "1         2   GoldenEye (1995)  01-Jan-1995\n",
      "2         3  Four Rooms (1995)  01-Jan-1995\n",
      "\n",
      "   user_id  age gender  occupation\n",
      "0        1   24      M  technician\n",
      "1        2   53      F       other\n",
      "2        3   23      M      writer\n"
     ]
    }
   ],
   "source": [
    "print(udata.head(3))\n",
    "print()\n",
    "print(uitem.head(3))\n",
    "print()\n",
    "print(uuser.head(3))"
   ]
  },
  {
   "cell_type": "markdown",
   "id": "f7d1fbc9-9632-4dcf-963e-df2921505b98",
   "metadata": {},
   "source": [
    "Load the `udata` csv file from the files that were just created and create a matrix, `user_movie_matrix`, with user ratings for each movie using the data in `udata`. User IDs are the rows and movie IDs are the columns."
   ]
  },
  {
   "cell_type": "code",
   "execution_count": 1047,
   "id": "bc5dfb32-e0a2-43c6-92d2-e9231a419f0e",
   "metadata": {},
   "outputs": [],
   "source": [
    "udata = pd.read_csv('udata.csv')\n",
    "\n",
    "user_movie_matrix = udata.pivot(index=\"user_id\", columns=\"movie_id\", values=\"rating\")\n",
    "user_movie_matrix.columns = user_movie_matrix.columns.astype(int)\n",
    "user_movie_matrix.to_csv('user_movie_matrix.csv', index=True)"
   ]
  },
  {
   "cell_type": "code",
   "execution_count": 1048,
   "id": "e65f26a1-20ad-4800-9529-234d982562c8",
   "metadata": {},
   "outputs": [
    {
     "name": "stdout",
     "output_type": "stream",
     "text": [
      "movie_id  1     2     3     4     5     6     7     8     9     10    ...  \\\n",
      "user_id                                                               ...   \n",
      "1          5.0   3.0   4.0   3.0   3.0   5.0   4.0   1.0   5.0   3.0  ...   \n",
      "2          4.0   NaN   NaN   NaN   NaN   NaN   NaN   NaN   NaN   2.0  ...   \n",
      "3          NaN   NaN   NaN   NaN   NaN   NaN   NaN   NaN   NaN   NaN  ...   \n",
      "\n",
      "movie_id  1673  1674  1675  1676  1677  1678  1679  1680  1681  1682  \n",
      "user_id                                                               \n",
      "1          NaN   NaN   NaN   NaN   NaN   NaN   NaN   NaN   NaN   NaN  \n",
      "2          NaN   NaN   NaN   NaN   NaN   NaN   NaN   NaN   NaN   NaN  \n",
      "3          NaN   NaN   NaN   NaN   NaN   NaN   NaN   NaN   NaN   NaN  \n",
      "\n",
      "[3 rows x 1682 columns]\n"
     ]
    }
   ],
   "source": [
    "print(user_movie_matrix.head(3))"
   ]
  },
  {
   "cell_type": "markdown",
   "id": "fc13d21c-a887-4be5-ace0-25a309928c5e",
   "metadata": {},
   "source": [
    "Load the user-movie ratings matrix that was just created into `UM` using the `user_id` column as the index. Then create a boolean matrix with `True` for each movie that each user has not rated. This will be useful later for removing movies the user has already rated from the recommendations."
   ]
  },
  {
   "cell_type": "code",
   "execution_count": 1049,
   "id": "8f52503b-56ee-4772-abba-1b4f707e83f4",
   "metadata": {},
   "outputs": [],
   "source": [
    "UM = pd.read_csv('user_movie_matrix.csv', index_col='user_id')\n",
    "UM.columns.name = 'movie_id'\n",
    "UM.columns = UM.columns.astype(int)\n",
    "unrated = UM.isna()"
   ]
  },
  {
   "cell_type": "markdown",
   "id": "931a08ac-9a8c-428a-8c86-b84afc73c83f",
   "metadata": {},
   "source": [
    "To use cosine similarity for our collaborative filtering, we need to give a rating to movies that have not been rated since they are current `NaN`. The two approaches I considered are filling `NaN` values with 0, or the mean value of the user. Both approaches seem to yield similar results for the recommendations, but based off of instinct I chose to use the mean value.\n",
    "\n",
    "I think that users naturally gravitate towards movies that they are going to enjoy (based off recommendations, titles, trailers, sequels, etc.) which would raise their mean rating above their what their mean rating would be for a uniformly randomly chosen movie. In other words, I think that a user's mean rating over all the movies in the dataset would be lower than the mean rating over all the movies they have rated. However, I still think that the overall mean rating would be closer to the mean rating over the movies they have rated than to 0. Therefore, I think using the mean value is more useful in this context."
   ]
  },
  {
   "cell_type": "code",
   "execution_count": 1050,
   "id": "3a2d454b-f4bd-4fb1-b568-c19285823fae",
   "metadata": {},
   "outputs": [],
   "source": [
    "# Replace NaN values.\n",
    "# UM = UM.apply(lambda row: row.fillna(0), axis=1)\n",
    "UM = UM.apply(lambda row: row.fillna(row.mean()), axis=1)"
   ]
  },
  {
   "cell_type": "markdown",
   "id": "262b14df-36c6-47bd-9516-d9d8e8fc5002",
   "metadata": {},
   "source": [
    "Each row is z-scale normalized by subtracting the mean of the row and scaling by the standard deviation. This centers each user's mean rating about 0 and normalizes the spread of their rating distribution. This is important because each user will have an average rating bias and use a different range of the full scale. In general, this makes user's ratings more comparable."
   ]
  },
  {
   "cell_type": "code",
   "execution_count": 1051,
   "id": "0618cfde-fc28-4e6e-a8a7-db18fbc104bd",
   "metadata": {},
   "outputs": [],
   "source": [
    "# Apply z-scale normalization for each user's ratings.\n",
    "UM_norm = UM.apply(lambda row: (row - row.mean())  / row.std(), axis=1)"
   ]
  },
  {
   "cell_type": "code",
   "execution_count": 1052,
   "id": "167af28f-8186-4f22-83bf-496149b2be89",
   "metadata": {},
   "outputs": [
    {
     "name": "stdout",
     "output_type": "stream",
     "text": [
      "movie_id  1     2     3     4     5     6     7     8     9     10    ...  \\\n",
      "user_id                                                               ...   \n",
      "1         2.74  -1.2  0.77  -1.2  -1.2  2.74  0.77 -5.14  2.74 -1.20  ...   \n",
      "2         1.48  -0.0 -0.00  -0.0  -0.0 -0.00 -0.00 -0.00 -0.00 -8.71  ...   \n",
      "3        -0.00  -0.0 -0.00  -0.0  -0.0 -0.00 -0.00 -0.00 -0.00 -0.00  ...   \n",
      "\n",
      "movie_id  1673  1674  1675  1676  1677  1678  1679  1680  1681  1682  \n",
      "user_id                                                               \n",
      "1          0.0   0.0   0.0   0.0   0.0   0.0   0.0   0.0   0.0   0.0  \n",
      "2         -0.0  -0.0  -0.0  -0.0  -0.0  -0.0  -0.0  -0.0  -0.0  -0.0  \n",
      "3         -0.0  -0.0  -0.0  -0.0  -0.0  -0.0  -0.0  -0.0  -0.0  -0.0  \n",
      "\n",
      "[3 rows x 1682 columns]\n"
     ]
    }
   ],
   "source": [
    "print(UM_norm.head(3).round(2))"
   ]
  },
  {
   "cell_type": "markdown",
   "id": "9626df6f-7952-44db-b8f2-dd4744459225",
   "metadata": {},
   "source": [
    "The `UM` matrix will be used for finding similar users while the `MU` (the transpose of the `UM` matrix) will be used for finding movie-movie similarities."
   ]
  },
  {
   "cell_type": "code",
   "execution_count": 1053,
   "id": "61786471-898e-4efc-bceb-42a95751f43e",
   "metadata": {},
   "outputs": [],
   "source": [
    "MU = UM.T"
   ]
  },
  {
   "cell_type": "markdown",
   "id": "51d53f1f-1c1e-4c45-8e4d-46b675107a6f",
   "metadata": {},
   "source": [
    "One thing that is unclear to me, but seems important, is how the z-scale normalization should be applied for the MU matrix. Should we normalize the movie scores, or the user scores, or both? Z-scale normalization for users removes user bias and scales for the spread of a user's ratings. Z-scale normalization across movie ratings removes how well a movie is recieved in general (i.e. the mean), and scales according to the std which I think would correspond to how polarizing a movie is. The third option is to do one and then the other or vise versa.\n",
    "\n",
    "I have not come to a conclusion on this. However, I don't think that similarity between movies should be affected by how well the movie was recieved in general. Therefore, I will normalize across movie ratings, not across user ratings."
   ]
  },
  {
   "cell_type": "code",
   "execution_count": 1054,
   "id": "929c1a4f-9b20-4d12-8cd7-2db65b9703e0",
   "metadata": {},
   "outputs": [],
   "source": [
    "MU_norm = MU.apply(lambda row: (row - row.mean())  / row.std(), axis=1)"
   ]
  },
  {
   "cell_type": "markdown",
   "id": "6625cf53-8018-4db2-bccb-19c9840e086a",
   "metadata": {},
   "source": [
    "Using the processed data, calculate the user-user and movie-movie similaries using cosine similarity."
   ]
  },
  {
   "cell_type": "code",
   "execution_count": 1055,
   "id": "e94511a8-f268-4f8c-8dcc-cb0f61f6f0bf",
   "metadata": {},
   "outputs": [],
   "source": [
    "user_sim = pd.DataFrame(cosine_similarity(UM_norm), index=UM_norm.index, columns=UM_norm.index)\n",
    "movie_sim = pd.DataFrame(cosine_similarity(MU_norm), index=MU_norm.index, columns=MU_norm.index)"
   ]
  },
  {
   "cell_type": "markdown",
   "id": "70d31487-d7d5-4758-a225-408c88712c3b",
   "metadata": {},
   "source": [
    "Load the movie data (title, movie_id, release date, etc.) into the matrix `movies`. This will be necessary later for finding movie titles from movie IDs."
   ]
  },
  {
   "cell_type": "code",
   "execution_count": 1056,
   "id": "b1c7fc12-ceea-4821-8a51-5bf7f1dfd3ac",
   "metadata": {},
   "outputs": [],
   "source": [
    "movies = pd.read_csv('uitem.csv', index_col='movie_id')"
   ]
  },
  {
   "cell_type": "markdown",
   "id": "cb123c37-5ee9-4f3c-83ba-68a651e66c72",
   "metadata": {},
   "source": [
    "## Part 2: Collaborative Filtering"
   ]
  },
  {
   "cell_type": "markdown",
   "id": "d07dd5e5-8052-4f8c-96e3-21b7fb8c9655",
   "metadata": {},
   "source": [
    "### User-user"
   ]
  },
  {
   "cell_type": "markdown",
   "id": "abc333ec-6062-4326-bb97-e8839a1aa2b3",
   "metadata": {},
   "source": [
    "The following is the implementation of user-user collaborative filtering using the above processed data. The `recommend_movies_for_user` function does the following:\n",
    "- Line 2: Find the similarities with all other users for `user_id`\n",
    "- Line 2: Drop `user_id` since it will always be 1\n",
    "- Line 2: Sort in descending order and take the first 50 most similar users and store in `sims`\n",
    "- Line 3: Retrieve the movie ratings from all users in `sims` and store in `sim_ratings`\n",
    "- Line 5: Get the predicted ratings of movies for `user_id` by finding the weighted sum of ratings of similar users in `sims` and store in `pred_ratings`\n",
    "- Line 6: Remove all previously rated movies from `pred_ratings` using `unrated` so that only movies the user hasn't seen will be recommended\n",
    "- Line 7: Sort `pred_ratings` in descending order and get the first `num` indexes of the recommended movies and store in `recommend_idx`\n",
    "- Line 11: Return the recommended movie titles using `recommend_idx` to index the `movies` dataframe"
   ]
  },
  {
   "cell_type": "code",
   "execution_count": 1057,
   "id": "63441542-877f-416e-b1fb-cea7262d964d",
   "metadata": {},
   "outputs": [
    {
     "name": "stdout",
     "output_type": "stream",
     "text": [
      "                                                Movie Name\n",
      "Ranking                                                   \n",
      "1                                  Schindler's List (1993)\n",
      "2                                        Casablanca (1942)\n",
      "3                                             Glory (1989)\n",
      "4                                    Close Shave, A (1995)\n",
      "5                                Lawrence of Arabia (1962)\n",
      "6        Dr. Strangelove or: How I Learned to Stop Worr...\n",
      "7                   One Flew Over the Cuckoo's Nest (1975)\n",
      "8                Butch Cassidy and the Sundance Kid (1969)\n",
      "9                                       Rear Window (1954)\n",
      "10                               North by Northwest (1959)\n"
     ]
    }
   ],
   "source": [
    "def recommend_movies_for_user(user_id, num=5):\n",
    "    sims = user_sim[user_id].drop(user_id).sort_values(ascending=False).head(50)\n",
    "    sim_ratings = UM_norm.loc[sims.index]\n",
    "    \n",
    "    pred_ratings = sim_ratings.T.dot(sims.T) / sims.sum()\n",
    "    pred_ratings = pred_ratings.loc[unrated.loc[user_id]]\n",
    "    recommend_idx = pred_ratings.sort_values(ascending=False).head(num).index\n",
    "\n",
    "    movie_titles = movies.loc[recommend_idx, 'title'].to_list()\n",
    "\n",
    "    result_df = pd.DataFrame({\n",
    "    'Ranking': range(1, num+1),\n",
    "    'Movie Name': movie_titles\n",
    "    })\n",
    "    result_df.set_index('Ranking', inplace=True)\n",
    "    \n",
    "    return result_df\n",
    "\n",
    "print(recommend_movies_for_user(1, 10))"
   ]
  },
  {
   "cell_type": "markdown",
   "id": "46f53ee9-4df8-48f1-8315-1e38f7193fcc",
   "metadata": {},
   "source": [
    "### Item-item"
   ]
  },
  {
   "cell_type": "markdown",
   "id": "104f87ca-f14f-4b9a-a5b5-065e5f3457c8",
   "metadata": {},
   "source": [
    "The following is the implementation of movie–movie collaborative filtering using the processed movie similarity matrix. The `recommend_movies` function performs the following steps:\n",
    "\n",
    "- Line 2: Look up the `movie_id` corresponding to the given `movie_name` by finding its index in `movies`\n",
    "- Line 3: Retrieve similarity scores between the input movie and all other movies from the `movie_sim` matrix and drop the input movie since we don't want to recommend the same movie\n",
    "- Line 4: Sort the similarity scores in descending order, select the top `num` most similar movies and store their indices as `sim_idx`\n",
    "- Line 5: Use `sim_idx` to retrieve the corresponding movie titles from `movies` and return them as recommendations"
   ]
  },
  {
   "cell_type": "code",
   "execution_count": 1058,
   "id": "1637d143-9425-43cc-9461-3018311389aa",
   "metadata": {},
   "outputs": [
    {
     "name": "stdout",
     "output_type": "stream",
     "text": [
      "                                        Movie Name\n",
      "Ranking                                           \n",
      "1                        Return of the Jedi (1983)\n",
      "2                  Empire Strikes Back, The (1980)\n",
      "3                   Raiders of the Lost Ark (1981)\n",
      "4        Indiana Jones and the Last Crusade (1989)\n",
      "5                            Butterfly Kiss (1995)\n",
      "6                           Man of the Year (1995)\n",
      "7                              New York Cop (1996)\n",
      "8                              Safe Passage (1994)\n",
      "9                Destiny Turns on the Radio (1995)\n",
      "10                    Foreign Correspondent (1940)\n"
     ]
    }
   ],
   "source": [
    "def recommend_movies(movie_name, num=5):\n",
    "    movie_id = int(movies[movies[\"title\"] == movie_name].index[0])\n",
    "    sims = movie_sim.loc[movie_id].drop(movie_id)\n",
    "    sim_idx = sims.sort_values(ascending=False).head(num).index.astype(int)\n",
    "\n",
    "    movie_titles = movies.loc[sim_idx, 'title']\n",
    "    \n",
    "    result_df = pd.DataFrame({\n",
    "    'Ranking': range(1, num+1),\n",
    "    'Movie Name': movie_titles\n",
    "    })\n",
    "    result_df.set_index('Ranking', inplace=True)\n",
    "    \n",
    "    return result_df\n",
    "\n",
    "print(recommend_movies(\"Star Wars (1977)\", 10))"
   ]
  },
  {
   "cell_type": "markdown",
   "id": "14f87ce0-c8f0-4545-97b2-e5af1f392618",
   "metadata": {},
   "source": [
    "## Part 3: Pixie"
   ]
  },
  {
   "cell_type": "markdown",
   "id": "4708d5bb-487e-4eba-adb7-05f5a01bb432",
   "metadata": {},
   "source": [
    "### Data Processing\n",
    "The following block processes and prepares movie rating data for the graph:\n",
    "\n",
    "- Line 1: Loads the movie metadata from `uitem.csv`, sets `movie_id` as the index then resets the index so it becomes a regular column\n",
    "- Line 2: Loads the user–movie rating matrix from `user_movie_matrix.csv` using `user_id` as the index\n",
    "- Line 2: I select only the first 250 users just to speed up the process. More can be added, if desired, for more accuracy.\n",
    "- Line 4: Converts the wide-format matrix into a long-format DataFrame by stacking ratings into individual rows\n",
    "- Line 5: Renames the resulting columns to `user_id`, `movie_id`, and `rating`\n",
    "- Line 6: Converts all `movie_id` values to integers for merging\n",
    "- Line 7: Drops any rows where the rating is missing (i.e. `NaN`)\n",
    "- Line 8: Merges the `ratings` with the `movies` to include movie titles based on `movie_id`\n"
   ]
  },
  {
   "cell_type": "code",
   "execution_count": 1059,
   "id": "d16e8366-4827-48a3-a2a2-f4ca5f2ec259",
   "metadata": {},
   "outputs": [
    {
     "name": "stdout",
     "output_type": "stream",
     "text": [
      "       user_id  movie_id    rating                                 title\n",
      "0            1         1  1.099812                      Toy Story (1995)\n",
      "1            1         2 -0.482986                      GoldenEye (1995)\n",
      "2            1         3  0.308413                     Four Rooms (1995)\n",
      "3            1         4 -0.482986                     Get Shorty (1995)\n",
      "4            1         5 -0.482986                        Copycat (1995)\n",
      "...        ...       ...       ...                                   ...\n",
      "99995      943      1067 -1.120605                  Bottle Rocket (1996)\n",
      "99996      943      1074  0.468101                  Reality Bites (1994)\n",
      "99997      943      1188 -0.326252                  Young Guns II (1990)\n",
      "99998      943      1228 -0.326252  Under Siege 2: Dark Territory (1995)\n",
      "99999      943      1330 -0.326252        An Unforgettable Summer (1994)\n",
      "\n",
      "[100000 rows x 4 columns]\n"
     ]
    }
   ],
   "source": [
    "movies = pd.read_csv('uitem.csv', index_col='movie_id').reset_index()\n",
    "UM = pd.read_csv('user_movie_matrix.csv', index_col='user_id')\n",
    "UM = UM.apply(lambda row: (row - row.mean())  / row.std(), axis=1)\n",
    "\n",
    "ratings = UM.stack().reset_index()\n",
    "ratings.columns = ['user_id', 'movie_id', 'rating']\n",
    "ratings['movie_id'] = ratings['movie_id'].astype(int)\n",
    "ratings = ratings.dropna()\n",
    "ratings = ratings.merge(movies[['movie_id', 'title']], on='movie_id')\n",
    "print(ratings)"
   ]
  },
  {
   "cell_type": "markdown",
   "id": "bea63a40-f55c-4c6f-a77e-b426b2ee2812",
   "metadata": {},
   "source": [
    "### Graph Building\n",
    "The following block builds the bipartite graph used for the random walk. It simply iterates through all the edges (users and movies) in `ratings` and builds the graph in a dictionary, `graph`."
   ]
  },
  {
   "cell_type": "code",
   "execution_count": 1060,
   "id": "bad67a3f-d04c-49c0-b302-4624a7b5e816",
   "metadata": {},
   "outputs": [],
   "source": [
    "graph = defaultdict(set)\n",
    "for _, row in ratings.iterrows():\n",
    "    user, movie = row['user_id'], row['title']\n",
    "    graph[user].add(movie)\n",
    "    graph[movie].add(user)"
   ]
  },
  {
   "cell_type": "markdown",
   "id": "6bcbfcb8-450d-43ea-8925-9e8e5c6aa4e5",
   "metadata": {},
   "source": [
    "### Random Walk\n",
    "The `random_walk` function simulates a random walk over a user–movie bipartite graph starting from a given node:\n",
    "- Line 1: Initializes the walk from the `start_node` and sets up a dictionary to count movie visits.\n",
    "- Line 3: Iterates for a fixed number of steps defined by `walk_length`.\n",
    "- Line 4: Retrieves the list of neighbors connected to the current node.\n",
    "- Line 5: If the current node has no neighbors, the walk terminates early.\n",
    "- Line 7: Randomly selects the next node from the list of neighbors.\n",
    "- Line 8: If the current node is a movie (i.e., a string), increments its visit count.\n",
    "- Line 10: After the walk completes, returns a dictionary mapping movie titles to the number of times they were visited."
   ]
  },
  {
   "cell_type": "code",
   "execution_count": 1166,
   "id": "97bf0710-248b-4739-91b2-2f4a62e27038",
   "metadata": {},
   "outputs": [],
   "source": [
    "def random_walk(graph, start_node, walk_length=100):\n",
    "    current = start_node\n",
    "    visit_counts = defaultdict(int)\n",
    "\n",
    "    for _ in range(walk_length):\n",
    "        neighbors = list(graph[current])\n",
    "        if not neighbors:\n",
    "            break\n",
    "\n",
    "        current = random.choice(neighbors)\n",
    "        if isinstance(current, str):\n",
    "            visit_counts[current] += 1\n",
    "\n",
    "    return visit_counts"
   ]
  },
  {
   "cell_type": "markdown",
   "id": "cd4ff7d3-a47f-4f9e-8262-0bfbbaf2c06a",
   "metadata": {},
   "source": [
    "### User Recommendation\n",
    "The `recommend_for_user` function performs a random-walk-based recommendation for a given user:\n",
    "- Line 1: Defines the function, specifying the graph, target `user_id`, total walk length, and number of recommendations to return\n",
    "- Line 2: If the `user_id` is not present in the graph, returns an empty list\n",
    "- Line 4: Performs a random walk starting from the given user node and records how frequently each movie is visited\n",
    "- Line 5: Sorts the visited movies in descending order based on their visit count\n",
    "- Line 6: Returns the top `top_n` most visited movie titles as recommendations"
   ]
  },
  {
   "cell_type": "code",
   "execution_count": 1074,
   "id": "e6b950eb-6ebe-4f9e-83d0-47ff03fd9789",
   "metadata": {},
   "outputs": [],
   "source": [
    "def recommend_for_user(graph, user_id, walk_length=100, top_n=5):\n",
    "    if user_id not in graph:\n",
    "        return []\n",
    "\n",
    "    visits = random_walk(graph, user_id, walk_length)\n",
    "    \n",
    "    rated_movies = graph[user_id]\n",
    "    sorted_movies = sorted(\n",
    "        [(movie, count) for movie, count in visits.items() if movie not in rated_movies],\n",
    "        key=lambda x: x[1], reverse=True\n",
    "    )\n",
    "\n",
    "    top_movies = [movie for movie, _ in sorted_movies[:top_n]]\n",
    "    result_df = pd.DataFrame({\n",
    "        'Ranking': range(1, len(top_movies) + 1),\n",
    "        'Movie Name': top_movies\n",
    "    })\n",
    "    result_df.set_index('Ranking', inplace=True)\n",
    "\n",
    "    return result_df"
   ]
  },
  {
   "cell_type": "code",
   "execution_count": 1075,
   "id": "ee5eac89-f099-499c-9c81-bed5a69ee78b",
   "metadata": {},
   "outputs": [
    {
     "name": "stdout",
     "output_type": "stream",
     "text": [
      "                           Movie Name\n",
      "Ranking                              \n",
      "1                    Liar Liar (1997)\n",
      "2                       Scream (1996)\n",
      "3         English Patient, The (1996)\n",
      "4                Air Force One (1997)\n",
      "5                      Titanic (1997)\n",
      "6          Mission: Impossible (1996)\n",
      "7             Schindler's List (1993)\n",
      "8                       Ransom (1996)\n",
      "9        Sense and Sensibility (1995)\n",
      "10                  Saint, The (1997)\n"
     ]
    }
   ],
   "source": [
    "print(recommend_for_user(graph, 1, 100000, 10))"
   ]
  },
  {
   "cell_type": "markdown",
   "id": "d77ada97-bb08-476c-87c0-2fa2ba3ceb18",
   "metadata": {},
   "source": [
    "### Similar Movies\n",
    "The `recommend_similar_movies` function performs a random-walk-based search to find movies similar to a given movie:\n",
    "- Line 1: Defines the function with the graph, target `movie_title`, walk length, and number of similar movies to return\n",
    "- Line 2: If the `movie_title` is not found in the graph, returns an empty list\n",
    "- Line 4: Executes a random walk starting from the given movie node and records how frequently each movie is visited\n",
    "- Line 5: Sorts the visited movies by visit count in descending order\n",
    "- Line 6: Returns the top `top_n` most visited movies, excluding the input movie itself"
   ]
  },
  {
   "cell_type": "code",
   "execution_count": 1076,
   "id": "b8a2c160-ac77-49f2-9bc8-827dae625470",
   "metadata": {},
   "outputs": [],
   "source": [
    "def recommend_similar_movies(graph, movie_title, walk_length=100, top_n=5):\n",
    "    if movie_title not in graph:\n",
    "        return []\n",
    "    \n",
    "    visits = random_walk(graph, movie_title, walk_length)\n",
    "    sorted_movies = sorted(visits.items(), key=lambda x: x[1], reverse=True)\n",
    "    top_movies = [movie for movie, _ in sorted_movies if movie != movie_title][:top_n]\n",
    "    \n",
    "    result_df = pd.DataFrame({\n",
    "        'Ranking': range(1, len(top_movies) + 1),\n",
    "        'Movie Name': top_movies\n",
    "    })\n",
    "    result_df.set_index('Ranking', inplace=True)\n",
    "    \n",
    "    return result_df"
   ]
  },
  {
   "cell_type": "code",
   "execution_count": 1077,
   "id": "c9d8a364-bd93-4b75-9a4d-239e64b9743a",
   "metadata": {},
   "outputs": [
    {
     "name": "stdout",
     "output_type": "stream",
     "text": [
      "                               Movie Name\n",
      "Ranking                                  \n",
      "1               Return of the Jedi (1983)\n",
      "2                          Contact (1997)\n",
      "3                        Liar Liar (1997)\n",
      "4             English Patient, The (1996)\n",
      "5                            Fargo (1996)\n",
      "6                    Air Force One (1997)\n",
      "7                     Pulp Fiction (1994)\n",
      "8          Raiders of the Lost Ark (1981)\n",
      "9        Silence of the Lambs, The (1991)\n",
      "10                          Scream (1996)\n"
     ]
    }
   ],
   "source": [
    "print(recommend_similar_movies(graph, \"Star Wars (1977)\", 100000, 10))"
   ]
  },
  {
   "cell_type": "markdown",
   "id": "849c29eb-2bde-4e45-b11b-c1e9857a5d19",
   "metadata": {},
   "source": [
    "### Weighted Graph Building\n",
    "The following block builds the bipartite graph used for the **biased** random walk. It simply iterates through all the edges and for each `user_id` and `movie_title`, it stores the associated `movie_title` and `user_id` respectively with their associated rating to be used in the biased random walk.\n",
    "\n",
    "The difference between the previous graph and this one is that this stores the associated weight for each edge. We can then bias the random walk towards movies or users that have higher ratings. Another change I made, that might be more efficient, is that I store the total weight for each user and movie in the graph. This prevents having to sum all of the weights every time we go to a new user or movie."
   ]
  },
  {
   "cell_type": "code",
   "execution_count": 1140,
   "id": "05218243-14a8-4fbf-98b5-34e894a7e960",
   "metadata": {},
   "outputs": [],
   "source": [
    "movies = pd.read_csv('uitem.csv', index_col='movie_id').reset_index()\n",
    "UM = pd.read_csv('user_movie_matrix.csv', index_col='user_id')\n",
    "UM = UM.apply(lambda col: (col - col.mean()) / col.std(), axis=0)\n",
    "UM = UM.apply(lambda col: (col - col.min()) / (col.max() - col.min()), axis=0)\n",
    "\n",
    "ratings = UM.stack().reset_index()\n",
    "ratings.columns = ['user_id', 'movie_id', 'rating']\n",
    "ratings['movie_id'] = ratings['movie_id'].astype(int)\n",
    "ratings = ratings.dropna()\n",
    "ratings = ratings.merge(movies[['movie_id', 'title']], on='movie_id')"
   ]
  },
  {
   "cell_type": "code",
   "execution_count": 1141,
   "id": "ffd50593-c105-4344-a373-d316dc902288",
   "metadata": {},
   "outputs": [],
   "source": [
    "graph_weight = defaultdict(dict)\n",
    "\n",
    "for _, row in ratings.iterrows():\n",
    "    user = row['user_id']\n",
    "    movie = row['title']\n",
    "    rating = row['rating']\n",
    "\n",
    "    graph_weight[user][movie] = rating\n",
    "    graph_weight[movie][user] = rating"
   ]
  },
  {
   "cell_type": "markdown",
   "id": "431c2875-28e3-46a0-8111-5ed06f9cf47d",
   "metadata": {},
   "source": [
    "### Biased Coin Random Walk"
   ]
  },
  {
   "cell_type": "markdown",
   "id": "eb903127-d019-4bc3-a60a-208c0db0e076",
   "metadata": {},
   "source": [
    "This function implements a biased coin random walk. At each step:\n",
    "- A neighbor is randomly chosen.\n",
    "- The walk accepts this neighbor based on a probability equal to the rating (between 0 and 1).\n",
    "- If accepted the walk moves to that neighbor, otherwise, it retries with a new neighbor.\n",
    "- If the current node is a movie title (i.e. a string), its visit count is incremented."
   ]
  },
  {
   "cell_type": "code",
   "execution_count": 1142,
   "id": "fda20e89-1559-4d13-804f-1637a434b1e2",
   "metadata": {},
   "outputs": [],
   "source": [
    "def biased_coin_random_walk(graph, start_node, walk_length=100):\n",
    "    current = start_node\n",
    "    visit_counts = defaultdict(int)\n",
    "\n",
    "    for i in range(walk_length):\n",
    "        neighbors = list(graph.get(current, {}).keys())\n",
    "        if not neighbors:\n",
    "            break\n",
    "\n",
    "        accepted = False\n",
    "        while not accepted:\n",
    "            neighbor = random.choice(neighbors)\n",
    "            rating = graph[current][neighbor]\n",
    "            acceptance_prob = rating\n",
    "\n",
    "            if random.random() <= acceptance_prob:\n",
    "                accepted = True\n",
    "                current = neighbor\n",
    "\n",
    "        if isinstance(current, str):\n",
    "            visit_counts[current] += 1\n",
    "\n",
    "    return visit_counts"
   ]
  },
  {
   "cell_type": "markdown",
   "id": "487b0e63-fbe1-4d35-a9cc-3f19a2f2d23f",
   "metadata": {},
   "source": [
    "This function recommends movies to the user using the biased coin random walk function\n",
    "- It starts the walk from the given user and runs for a specified number of steps  \n",
    "- At each step it randomly selects a neighbor and uses the rating as the probability of accepting the move  \n",
    "- Movies visited during the walk are counted and stored  \n",
    "- After the walk the movies are sorted by visit count and the top results are returned  \n",
    "- The output is a dataframe showing the recommended movie titles and their ranking  "
   ]
  },
  {
   "cell_type": "code",
   "execution_count": 1147,
   "id": "d83a3acf-88b1-4e5a-8040-ac88e1560bde",
   "metadata": {},
   "outputs": [],
   "source": [
    "def recommend_for_user_biased_coin(graph, user_id, walk_length=100, top_n=5):\n",
    "    if user_id not in graph:\n",
    "        return []\n",
    "\n",
    "    visits = biased_coin_random_walk(graph, user_id, walk_length)\n",
    "    sorted_movies = sorted(visits.items(), key=lambda x: x[1], reverse=True)\n",
    "    top_movies = [movie for movie, _ in sorted_movies[:top_n]]\n",
    "\n",
    "    result_df = pd.DataFrame({\n",
    "        'Ranking': range(1, len(top_movies) + 1),\n",
    "        'Movie Name': top_movies\n",
    "    })\n",
    "    result_df.set_index('Ranking', inplace=True)\n",
    "\n",
    "    return result_df"
   ]
  },
  {
   "cell_type": "code",
   "execution_count": 1173,
   "id": "f3550fed-6659-447b-9ecc-d9eafed62c9a",
   "metadata": {},
   "outputs": [
    {
     "name": "stdout",
     "output_type": "stream",
     "text": [
      "                               Movie Name\n",
      "Ranking                                  \n",
      "1                        Star Wars (1977)\n",
      "2                          Contact (1997)\n",
      "3                     Forrest Gump (1994)\n",
      "4                          Titanic (1997)\n",
      "5               Return of the Jedi (1983)\n",
      "6                     Pulp Fiction (1994)\n",
      "7                        Toy Story (1995)\n",
      "8        Silence of the Lambs, The (1991)\n",
      "9                       Braveheart (1995)\n",
      "10                   Air Force One (1997)\n"
     ]
    }
   ],
   "source": [
    "print(recommend_for_user_biased_coin(graph_weight, 1, 10000, 10))"
   ]
  },
  {
   "cell_type": "markdown",
   "id": "1ca939f1-8de4-4e03-a7fe-cf799a0b01f4",
   "metadata": {},
   "source": [
    "This function finds movies similar to a given movie using the biased coin random walk\n",
    "- The walk starts from the input movie and continues for a fixed number of steps  \n",
    "- At each step it randomly selects a connected user or movie and uses the rating as the acceptance probability  \n",
    "- Movies visited during the walk are counted and tracked  \n",
    "- The input movie is excluded from the results  \n",
    "- After the walk movies are sorted by how often they were visited and the top matches are selected  \n",
    "- The output is a dataframe listing the most similar movie titles and their ranking  "
   ]
  },
  {
   "cell_type": "code",
   "execution_count": 1145,
   "id": "6eb47499-3fe9-492d-999d-e5147c1e02bf",
   "metadata": {},
   "outputs": [],
   "source": [
    "def recommend_similar_movies_biased_coin(graph_weight, movie_title, walk_length=100, top_n=5):\n",
    "    if movie_title not in graph_weight:\n",
    "        return []\n",
    "\n",
    "    visits = biased_coin_random_walk(graph_weight, movie_title, walk_length)\n",
    "    sorted_movies = sorted(visits.items(), key=lambda x: x[1], reverse=True)\n",
    "    top_movies = [movie for movie, _ in sorted_movies if movie != movie_title][:top_n]\n",
    "\n",
    "    result_df = pd.DataFrame({\n",
    "        'ranking': range(1, len(top_movies) + 1),\n",
    "        'movie_name': top_movies\n",
    "    })\n",
    "    result_df.set_index('ranking', inplace=True)\n",
    "\n",
    "    return result_df"
   ]
  },
  {
   "cell_type": "code",
   "execution_count": 1146,
   "id": "51a8aae3-bf6b-4b15-845a-77046d72afa3",
   "metadata": {},
   "outputs": [
    {
     "name": "stdout",
     "output_type": "stream",
     "text": [
      "                               movie_name\n",
      "ranking                                  \n",
      "1                            Fargo (1996)\n",
      "2                          Contact (1997)\n",
      "3               Return of the Jedi (1983)\n",
      "4          Raiders of the Lost Ark (1981)\n",
      "5                        Toy Story (1995)\n",
      "6                    Jerry Maguire (1996)\n",
      "7              Princess Bride, The (1987)\n",
      "8             English Patient, The (1996)\n",
      "9        Silence of the Lambs, The (1991)\n",
      "10        Empire Strikes Back, The (1980)\n"
     ]
    }
   ],
   "source": [
    "print(recommend_similar_movies_biased_coin(graph_weight, \"Star Wars (1977)\", 50000, 10))"
   ]
  },
  {
   "cell_type": "code",
   "execution_count": null,
   "id": "cfde79cd-6db5-48ec-a083-f17cf60fe328",
   "metadata": {},
   "outputs": [],
   "source": []
  }
 ],
 "metadata": {
  "kernelspec": {
   "display_name": "Python 3 (ipykernel)",
   "language": "python",
   "name": "python3"
  },
  "language_info": {
   "codemirror_mode": {
    "name": "ipython",
    "version": 3
   },
   "file_extension": ".py",
   "mimetype": "text/x-python",
   "name": "python",
   "nbconvert_exporter": "python",
   "pygments_lexer": "ipython3",
   "version": "3.12.9"
  }
 },
 "nbformat": 4,
 "nbformat_minor": 5
}
